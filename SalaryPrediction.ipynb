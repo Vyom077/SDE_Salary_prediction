{
 "cells": [
  {
   "cell_type": "code",
   "execution_count": 1,
   "metadata": {},
   "outputs": [],
   "source": [
    "import pandas as pd\n",
    "import matplotlib.pyplot as plt"
   ]
  },
  {
   "cell_type": "code",
   "execution_count": 2,
   "metadata": {},
   "outputs": [],
   "source": [
    "df = pd.read_csv('survey_results_public.csv')"
   ]
  },
  {
   "cell_type": "code",
   "execution_count": 3,
   "metadata": {},
   "outputs": [
    {
     "data": {
      "text/html": [
       "<div>\n",
       "<style scoped>\n",
       "    .dataframe tbody tr th:only-of-type {\n",
       "        vertical-align: middle;\n",
       "    }\n",
       "\n",
       "    .dataframe tbody tr th {\n",
       "        vertical-align: top;\n",
       "    }\n",
       "\n",
       "    .dataframe thead th {\n",
       "        text-align: right;\n",
       "    }\n",
       "</style>\n",
       "<table border=\"1\" class=\"dataframe\">\n",
       "  <thead>\n",
       "    <tr style=\"text-align: right;\">\n",
       "      <th></th>\n",
       "      <th>ResponseId</th>\n",
       "      <th>MainBranch</th>\n",
       "      <th>Employment</th>\n",
       "      <th>RemoteWork</th>\n",
       "      <th>CodingActivities</th>\n",
       "      <th>EdLevel</th>\n",
       "      <th>LearnCode</th>\n",
       "      <th>LearnCodeOnline</th>\n",
       "      <th>LearnCodeCoursesCert</th>\n",
       "      <th>YearsCode</th>\n",
       "      <th>...</th>\n",
       "      <th>TimeSearching</th>\n",
       "      <th>TimeAnswering</th>\n",
       "      <th>Onboarding</th>\n",
       "      <th>ProfessionalTech</th>\n",
       "      <th>TrueFalse_1</th>\n",
       "      <th>TrueFalse_2</th>\n",
       "      <th>TrueFalse_3</th>\n",
       "      <th>SurveyLength</th>\n",
       "      <th>SurveyEase</th>\n",
       "      <th>ConvertedCompYearly</th>\n",
       "    </tr>\n",
       "  </thead>\n",
       "  <tbody>\n",
       "    <tr>\n",
       "      <th>0</th>\n",
       "      <td>1</td>\n",
       "      <td>None of these</td>\n",
       "      <td>NaN</td>\n",
       "      <td>NaN</td>\n",
       "      <td>NaN</td>\n",
       "      <td>NaN</td>\n",
       "      <td>NaN</td>\n",
       "      <td>NaN</td>\n",
       "      <td>NaN</td>\n",
       "      <td>NaN</td>\n",
       "      <td>...</td>\n",
       "      <td>NaN</td>\n",
       "      <td>NaN</td>\n",
       "      <td>NaN</td>\n",
       "      <td>NaN</td>\n",
       "      <td>NaN</td>\n",
       "      <td>NaN</td>\n",
       "      <td>NaN</td>\n",
       "      <td>NaN</td>\n",
       "      <td>NaN</td>\n",
       "      <td>NaN</td>\n",
       "    </tr>\n",
       "    <tr>\n",
       "      <th>1</th>\n",
       "      <td>2</td>\n",
       "      <td>I am a developer by profession</td>\n",
       "      <td>Employed, full-time</td>\n",
       "      <td>Fully remote</td>\n",
       "      <td>Hobby;Contribute to open-source projects</td>\n",
       "      <td>NaN</td>\n",
       "      <td>NaN</td>\n",
       "      <td>NaN</td>\n",
       "      <td>NaN</td>\n",
       "      <td>NaN</td>\n",
       "      <td>...</td>\n",
       "      <td>NaN</td>\n",
       "      <td>NaN</td>\n",
       "      <td>NaN</td>\n",
       "      <td>NaN</td>\n",
       "      <td>NaN</td>\n",
       "      <td>NaN</td>\n",
       "      <td>NaN</td>\n",
       "      <td>Too long</td>\n",
       "      <td>Difficult</td>\n",
       "      <td>NaN</td>\n",
       "    </tr>\n",
       "    <tr>\n",
       "      <th>2</th>\n",
       "      <td>3</td>\n",
       "      <td>I am not primarily a developer, but I write co...</td>\n",
       "      <td>Employed, full-time</td>\n",
       "      <td>Hybrid (some remote, some in-person)</td>\n",
       "      <td>Hobby</td>\n",
       "      <td>Master’s degree (M.A., M.S., M.Eng., MBA, etc.)</td>\n",
       "      <td>Books / Physical media;Friend or family member...</td>\n",
       "      <td>Technical documentation;Blogs;Programming Game...</td>\n",
       "      <td>NaN</td>\n",
       "      <td>14</td>\n",
       "      <td>...</td>\n",
       "      <td>NaN</td>\n",
       "      <td>NaN</td>\n",
       "      <td>NaN</td>\n",
       "      <td>NaN</td>\n",
       "      <td>NaN</td>\n",
       "      <td>NaN</td>\n",
       "      <td>NaN</td>\n",
       "      <td>Appropriate in length</td>\n",
       "      <td>Neither easy nor difficult</td>\n",
       "      <td>40205.0</td>\n",
       "    </tr>\n",
       "    <tr>\n",
       "      <th>3</th>\n",
       "      <td>4</td>\n",
       "      <td>I am a developer by profession</td>\n",
       "      <td>Employed, full-time</td>\n",
       "      <td>Fully remote</td>\n",
       "      <td>I don’t code outside of work</td>\n",
       "      <td>Bachelor’s degree (B.A., B.S., B.Eng., etc.)</td>\n",
       "      <td>Books / Physical media;School (i.e., Universit...</td>\n",
       "      <td>NaN</td>\n",
       "      <td>NaN</td>\n",
       "      <td>20</td>\n",
       "      <td>...</td>\n",
       "      <td>NaN</td>\n",
       "      <td>NaN</td>\n",
       "      <td>NaN</td>\n",
       "      <td>NaN</td>\n",
       "      <td>NaN</td>\n",
       "      <td>NaN</td>\n",
       "      <td>NaN</td>\n",
       "      <td>Appropriate in length</td>\n",
       "      <td>Easy</td>\n",
       "      <td>215232.0</td>\n",
       "    </tr>\n",
       "    <tr>\n",
       "      <th>4</th>\n",
       "      <td>5</td>\n",
       "      <td>I am a developer by profession</td>\n",
       "      <td>Employed, full-time</td>\n",
       "      <td>Hybrid (some remote, some in-person)</td>\n",
       "      <td>Hobby</td>\n",
       "      <td>Bachelor’s degree (B.A., B.S., B.Eng., etc.)</td>\n",
       "      <td>Other online resources (e.g., videos, blogs, f...</td>\n",
       "      <td>Technical documentation;Blogs;Stack Overflow;O...</td>\n",
       "      <td>NaN</td>\n",
       "      <td>8</td>\n",
       "      <td>...</td>\n",
       "      <td>NaN</td>\n",
       "      <td>NaN</td>\n",
       "      <td>NaN</td>\n",
       "      <td>NaN</td>\n",
       "      <td>NaN</td>\n",
       "      <td>NaN</td>\n",
       "      <td>NaN</td>\n",
       "      <td>Too long</td>\n",
       "      <td>Easy</td>\n",
       "      <td>NaN</td>\n",
       "    </tr>\n",
       "  </tbody>\n",
       "</table>\n",
       "<p>5 rows × 79 columns</p>\n",
       "</div>"
      ],
      "text/plain": [
       "   ResponseId                                         MainBranch  \\\n",
       "0           1                                      None of these   \n",
       "1           2                     I am a developer by profession   \n",
       "2           3  I am not primarily a developer, but I write co...   \n",
       "3           4                     I am a developer by profession   \n",
       "4           5                     I am a developer by profession   \n",
       "\n",
       "            Employment                            RemoteWork  \\\n",
       "0                  NaN                                   NaN   \n",
       "1  Employed, full-time                          Fully remote   \n",
       "2  Employed, full-time  Hybrid (some remote, some in-person)   \n",
       "3  Employed, full-time                          Fully remote   \n",
       "4  Employed, full-time  Hybrid (some remote, some in-person)   \n",
       "\n",
       "                           CodingActivities  \\\n",
       "0                                       NaN   \n",
       "1  Hobby;Contribute to open-source projects   \n",
       "2                                     Hobby   \n",
       "3              I don’t code outside of work   \n",
       "4                                     Hobby   \n",
       "\n",
       "                                           EdLevel  \\\n",
       "0                                              NaN   \n",
       "1                                              NaN   \n",
       "2  Master’s degree (M.A., M.S., M.Eng., MBA, etc.)   \n",
       "3     Bachelor’s degree (B.A., B.S., B.Eng., etc.)   \n",
       "4     Bachelor’s degree (B.A., B.S., B.Eng., etc.)   \n",
       "\n",
       "                                           LearnCode  \\\n",
       "0                                                NaN   \n",
       "1                                                NaN   \n",
       "2  Books / Physical media;Friend or family member...   \n",
       "3  Books / Physical media;School (i.e., Universit...   \n",
       "4  Other online resources (e.g., videos, blogs, f...   \n",
       "\n",
       "                                     LearnCodeOnline LearnCodeCoursesCert  \\\n",
       "0                                                NaN                  NaN   \n",
       "1                                                NaN                  NaN   \n",
       "2  Technical documentation;Blogs;Programming Game...                  NaN   \n",
       "3                                                NaN                  NaN   \n",
       "4  Technical documentation;Blogs;Stack Overflow;O...                  NaN   \n",
       "\n",
       "  YearsCode  ... TimeSearching TimeAnswering Onboarding ProfessionalTech  \\\n",
       "0       NaN  ...           NaN           NaN        NaN              NaN   \n",
       "1       NaN  ...           NaN           NaN        NaN              NaN   \n",
       "2        14  ...           NaN           NaN        NaN              NaN   \n",
       "3        20  ...           NaN           NaN        NaN              NaN   \n",
       "4         8  ...           NaN           NaN        NaN              NaN   \n",
       "\n",
       "  TrueFalse_1 TrueFalse_2 TrueFalse_3           SurveyLength  \\\n",
       "0         NaN         NaN         NaN                    NaN   \n",
       "1         NaN         NaN         NaN               Too long   \n",
       "2         NaN         NaN         NaN  Appropriate in length   \n",
       "3         NaN         NaN         NaN  Appropriate in length   \n",
       "4         NaN         NaN         NaN               Too long   \n",
       "\n",
       "                   SurveyEase ConvertedCompYearly  \n",
       "0                         NaN                 NaN  \n",
       "1                   Difficult                 NaN  \n",
       "2  Neither easy nor difficult             40205.0  \n",
       "3                        Easy            215232.0  \n",
       "4                        Easy                 NaN  \n",
       "\n",
       "[5 rows x 79 columns]"
      ]
     },
     "execution_count": 3,
     "metadata": {},
     "output_type": "execute_result"
    }
   ],
   "source": [
    "df.head()"
   ]
  },
  {
   "cell_type": "code",
   "execution_count": 4,
   "metadata": {},
   "outputs": [
    {
     "data": {
      "text/plain": [
       "(73268, 79)"
      ]
     },
     "execution_count": 4,
     "metadata": {},
     "output_type": "execute_result"
    }
   ],
   "source": [
    "df.shape"
   ]
  },
  {
   "cell_type": "code",
   "execution_count": 5,
   "metadata": {},
   "outputs": [
    {
     "data": {
      "text/html": [
       "<div>\n",
       "<style scoped>\n",
       "    .dataframe tbody tr th:only-of-type {\n",
       "        vertical-align: middle;\n",
       "    }\n",
       "\n",
       "    .dataframe tbody tr th {\n",
       "        vertical-align: top;\n",
       "    }\n",
       "\n",
       "    .dataframe thead th {\n",
       "        text-align: right;\n",
       "    }\n",
       "</style>\n",
       "<table border=\"1\" class=\"dataframe\">\n",
       "  <thead>\n",
       "    <tr style=\"text-align: right;\">\n",
       "      <th></th>\n",
       "      <th>Country</th>\n",
       "      <th>EdLevel</th>\n",
       "      <th>YearsCodePro</th>\n",
       "      <th>Employment</th>\n",
       "      <th>Salary</th>\n",
       "    </tr>\n",
       "  </thead>\n",
       "  <tbody>\n",
       "    <tr>\n",
       "      <th>0</th>\n",
       "      <td>NaN</td>\n",
       "      <td>NaN</td>\n",
       "      <td>NaN</td>\n",
       "      <td>NaN</td>\n",
       "      <td>NaN</td>\n",
       "    </tr>\n",
       "    <tr>\n",
       "      <th>1</th>\n",
       "      <td>Canada</td>\n",
       "      <td>NaN</td>\n",
       "      <td>NaN</td>\n",
       "      <td>Employed, full-time</td>\n",
       "      <td>NaN</td>\n",
       "    </tr>\n",
       "    <tr>\n",
       "      <th>2</th>\n",
       "      <td>United Kingdom of Great Britain and Northern I...</td>\n",
       "      <td>Master’s degree (M.A., M.S., M.Eng., MBA, etc.)</td>\n",
       "      <td>5</td>\n",
       "      <td>Employed, full-time</td>\n",
       "      <td>40205.0</td>\n",
       "    </tr>\n",
       "    <tr>\n",
       "      <th>3</th>\n",
       "      <td>Israel</td>\n",
       "      <td>Bachelor’s degree (B.A., B.S., B.Eng., etc.)</td>\n",
       "      <td>17</td>\n",
       "      <td>Employed, full-time</td>\n",
       "      <td>215232.0</td>\n",
       "    </tr>\n",
       "    <tr>\n",
       "      <th>4</th>\n",
       "      <td>United States of America</td>\n",
       "      <td>Bachelor’s degree (B.A., B.S., B.Eng., etc.)</td>\n",
       "      <td>3</td>\n",
       "      <td>Employed, full-time</td>\n",
       "      <td>NaN</td>\n",
       "    </tr>\n",
       "  </tbody>\n",
       "</table>\n",
       "</div>"
      ],
      "text/plain": [
       "                                             Country  \\\n",
       "0                                                NaN   \n",
       "1                                             Canada   \n",
       "2  United Kingdom of Great Britain and Northern I...   \n",
       "3                                             Israel   \n",
       "4                           United States of America   \n",
       "\n",
       "                                           EdLevel YearsCodePro  \\\n",
       "0                                              NaN          NaN   \n",
       "1                                              NaN          NaN   \n",
       "2  Master’s degree (M.A., M.S., M.Eng., MBA, etc.)            5   \n",
       "3     Bachelor’s degree (B.A., B.S., B.Eng., etc.)           17   \n",
       "4     Bachelor’s degree (B.A., B.S., B.Eng., etc.)            3   \n",
       "\n",
       "            Employment    Salary  \n",
       "0                  NaN       NaN  \n",
       "1  Employed, full-time       NaN  \n",
       "2  Employed, full-time   40205.0  \n",
       "3  Employed, full-time  215232.0  \n",
       "4  Employed, full-time       NaN  "
      ]
     },
     "execution_count": 5,
     "metadata": {},
     "output_type": "execute_result"
    }
   ],
   "source": [
    "df = df[[\"Country\",\"EdLevel\",\"YearsCodePro\",\"Employment\",\"ConvertedCompYearly\"]]\n",
    "df = df.rename({\"ConvertedCompYearly\":\"Salary\"},axis=1)\n",
    "df.head()"
   ]
  },
  {
   "cell_type": "code",
   "execution_count": 6,
   "metadata": {},
   "outputs": [
    {
     "data": {
      "text/plain": [
       "(73268, 5)"
      ]
     },
     "execution_count": 6,
     "metadata": {},
     "output_type": "execute_result"
    }
   ],
   "source": [
    "df.shape"
   ]
  },
  {
   "cell_type": "code",
   "execution_count": 7,
   "metadata": {},
   "outputs": [],
   "source": [
    "mean_salary_by_country = df.groupby('Country')['Salary'].mean()"
   ]
  },
  {
   "cell_type": "code",
   "execution_count": 8,
   "metadata": {},
   "outputs": [
    {
     "data": {
      "image/png": "[encoded data removed]",
      "text/plain": [
       "<Figure size 1000x600 with 1 Axes>"
      ]
     },
     "metadata": {},
     "output_type": "display_data"
    }
   ],
   "source": [
    "mean_salary_by_country = mean_salary_by_country.reset_index()\n",
    "\n",
    "# Sort the DataFrame by mean salary in descending order and select the top 5 countries\n",
    "top_5_countries = mean_salary_by_country.sort_values('Salary', ascending=True).head(5)\n",
    "\n",
    "# Plotting the bar grap\n",
    "top_5_countries.plot(x='Country', y='Salary', kind='bar', figsize=(10, 6), color='skyblue')\n",
    "plt.title('Top 5 Countries by Mean Salary')\n",
    "plt.xlabel('Country')\n",
    "plt.ylabel('Mean Salary')\n",
    "plt.xticks(rotation=45)\n",
    "plt.grid(axis='y')\n",
    "plt.show()\n"
   ]
  },
  {
   "cell_type": "code",
   "execution_count": 9,
   "metadata": {},
   "outputs": [
    {
     "data": {
      "text/html": [
       "<div>\n",
       "<style scoped>\n",
       "    .dataframe tbody tr th:only-of-type {\n",
       "        vertical-align: middle;\n",
       "    }\n",
       "\n",
       "    .dataframe tbody tr th {\n",
       "        vertical-align: top;\n",
       "    }\n",
       "\n",
       "    .dataframe thead th {\n",
       "        text-align: right;\n",
       "    }\n",
       "</style>\n",
       "<table border=\"1\" class=\"dataframe\">\n",
       "  <thead>\n",
       "    <tr style=\"text-align: right;\">\n",
       "      <th></th>\n",
       "      <th>Country</th>\n",
       "      <th>EdLevel</th>\n",
       "      <th>YearsCodePro</th>\n",
       "      <th>Employment</th>\n",
       "      <th>Salary</th>\n",
       "    </tr>\n",
       "  </thead>\n",
       "  <tbody>\n",
       "    <tr>\n",
       "      <th>2</th>\n",
       "      <td>United Kingdom of Great Britain and Northern I...</td>\n",
       "      <td>Master’s degree (M.A., M.S., M.Eng., MBA, etc.)</td>\n",
       "      <td>5</td>\n",
       "      <td>Employed, full-time</td>\n",
       "      <td>40205.0</td>\n",
       "    </tr>\n",
       "    <tr>\n",
       "      <th>3</th>\n",
       "      <td>Israel</td>\n",
       "      <td>Bachelor’s degree (B.A., B.S., B.Eng., etc.)</td>\n",
       "      <td>17</td>\n",
       "      <td>Employed, full-time</td>\n",
       "      <td>215232.0</td>\n",
       "    </tr>\n",
       "    <tr>\n",
       "      <th>8</th>\n",
       "      <td>Netherlands</td>\n",
       "      <td>Master’s degree (M.A., M.S., M.Eng., MBA, etc.)</td>\n",
       "      <td>6</td>\n",
       "      <td>Employed, full-time</td>\n",
       "      <td>49056.0</td>\n",
       "    </tr>\n",
       "    <tr>\n",
       "      <th>10</th>\n",
       "      <td>United Kingdom of Great Britain and Northern I...</td>\n",
       "      <td>Bachelor’s degree (B.A., B.S., B.Eng., etc.)</td>\n",
       "      <td>2</td>\n",
       "      <td>Employed, full-time</td>\n",
       "      <td>60307.0</td>\n",
       "    </tr>\n",
       "    <tr>\n",
       "      <th>11</th>\n",
       "      <td>United States of America</td>\n",
       "      <td>Bachelor’s degree (B.A., B.S., B.Eng., etc.)</td>\n",
       "      <td>10</td>\n",
       "      <td>Employed, full-time;Independent contractor, fr...</td>\n",
       "      <td>194400.0</td>\n",
       "    </tr>\n",
       "  </tbody>\n",
       "</table>\n",
       "</div>"
      ],
      "text/plain": [
       "                                              Country  \\\n",
       "2   United Kingdom of Great Britain and Northern I...   \n",
       "3                                              Israel   \n",
       "8                                         Netherlands   \n",
       "10  United Kingdom of Great Britain and Northern I...   \n",
       "11                           United States of America   \n",
       "\n",
       "                                            EdLevel YearsCodePro  \\\n",
       "2   Master’s degree (M.A., M.S., M.Eng., MBA, etc.)            5   \n",
       "3      Bachelor’s degree (B.A., B.S., B.Eng., etc.)           17   \n",
       "8   Master’s degree (M.A., M.S., M.Eng., MBA, etc.)            6   \n",
       "10     Bachelor’s degree (B.A., B.S., B.Eng., etc.)            2   \n",
       "11     Bachelor’s degree (B.A., B.S., B.Eng., etc.)           10   \n",
       "\n",
       "                                           Employment    Salary  \n",
       "2                                 Employed, full-time   40205.0  \n",
       "3                                 Employed, full-time  215232.0  \n",
       "8                                 Employed, full-time   49056.0  \n",
       "10                                Employed, full-time   60307.0  \n",
       "11  Employed, full-time;Independent contractor, fr...  194400.0  "
      ]
     },
     "execution_count": 9,
     "metadata": {},
     "output_type": "execute_result"
    }
   ],
   "source": [
    "df = df[df[\"Salary\"].notnull()]\n",
    "df.head()"
   ]
  },
  {
   "cell_type": "code",
   "execution_count": 10,
   "metadata": {},
   "outputs": [
    {
     "name": "stdout",
     "output_type": "stream",
     "text": [
      "<class 'pandas.core.frame.DataFrame'>\n",
      "Int64Index: 38071 entries, 2 to 73121\n",
      "Data columns (total 5 columns):\n",
      " #   Column        Non-Null Count  Dtype  \n",
      "---  ------        --------------  -----  \n",
      " 0   Country       38071 non-null  object \n",
      " 1   EdLevel       38054 non-null  object \n",
      " 2   YearsCodePro  37935 non-null  object \n",
      " 3   Employment    38067 non-null  object \n",
      " 4   Salary        38071 non-null  float64\n",
      "dtypes: float64(1), object(4)\n",
      "memory usage: 1.7+ MB\n"
     ]
    }
   ],
   "source": [
    "df.info()"
   ]
  },
  {
   "cell_type": "code",
   "execution_count": 11,
   "metadata": {},
   "outputs": [
    {
     "data": {
      "text/html": [
       "<div>\n",
       "<style scoped>\n",
       "    .dataframe tbody tr th:only-of-type {\n",
       "        vertical-align: middle;\n",
       "    }\n",
       "\n",
       "    .dataframe tbody tr th {\n",
       "        vertical-align: top;\n",
       "    }\n",
       "\n",
       "    .dataframe thead th {\n",
       "        text-align: right;\n",
       "    }\n",
       "</style>\n",
       "<table border=\"1\" class=\"dataframe\">\n",
       "  <thead>\n",
       "    <tr style=\"text-align: right;\">\n",
       "      <th></th>\n",
       "      <th>Country</th>\n",
       "      <th>EdLevel</th>\n",
       "      <th>YearsCodePro</th>\n",
       "      <th>Employment</th>\n",
       "      <th>Salary</th>\n",
       "    </tr>\n",
       "  </thead>\n",
       "  <tbody>\n",
       "    <tr>\n",
       "      <th>11759</th>\n",
       "      <td>United States of America</td>\n",
       "      <td>Some college/university study without earning ...</td>\n",
       "      <td>More than 50 years</td>\n",
       "      <td>Independent contractor, freelancer, or self-em...</td>\n",
       "      <td>250000.0</td>\n",
       "    </tr>\n",
       "    <tr>\n",
       "      <th>19912</th>\n",
       "      <td>Belgium</td>\n",
       "      <td>Primary/elementary school</td>\n",
       "      <td>More than 50 years</td>\n",
       "      <td>I prefer not to say</td>\n",
       "      <td>1.0</td>\n",
       "    </tr>\n",
       "    <tr>\n",
       "      <th>30130</th>\n",
       "      <td>United States of America</td>\n",
       "      <td>Master’s degree (M.A., M.S., M.Eng., MBA, etc.)</td>\n",
       "      <td>More than 50 years</td>\n",
       "      <td>Employed, full-time</td>\n",
       "      <td>100000.0</td>\n",
       "    </tr>\n",
       "    <tr>\n",
       "      <th>30348</th>\n",
       "      <td>United States of America</td>\n",
       "      <td>Some college/university study without earning ...</td>\n",
       "      <td>More than 50 years</td>\n",
       "      <td>Retired</td>\n",
       "      <td>145000.0</td>\n",
       "    </tr>\n",
       "    <tr>\n",
       "      <th>31547</th>\n",
       "      <td>New Zealand</td>\n",
       "      <td>Some college/university study without earning ...</td>\n",
       "      <td>More than 50 years</td>\n",
       "      <td>Retired</td>\n",
       "      <td>64333.0</td>\n",
       "    </tr>\n",
       "    <tr>\n",
       "      <th>38810</th>\n",
       "      <td>United States of America</td>\n",
       "      <td>Bachelor’s degree (B.A., B.S., B.Eng., etc.)</td>\n",
       "      <td>More than 50 years</td>\n",
       "      <td>Independent contractor, freelancer, or self-em...</td>\n",
       "      <td>125000.0</td>\n",
       "    </tr>\n",
       "    <tr>\n",
       "      <th>39353</th>\n",
       "      <td>United States of America</td>\n",
       "      <td>Bachelor’s degree (B.A., B.S., B.Eng., etc.)</td>\n",
       "      <td>More than 50 years</td>\n",
       "      <td>Employed, full-time</td>\n",
       "      <td>200000.0</td>\n",
       "    </tr>\n",
       "    <tr>\n",
       "      <th>47396</th>\n",
       "      <td>Australia</td>\n",
       "      <td>Bachelor’s degree (B.A., B.S., B.Eng., etc.)</td>\n",
       "      <td>More than 50 years</td>\n",
       "      <td>Employed, full-time</td>\n",
       "      <td>60155.0</td>\n",
       "    </tr>\n",
       "    <tr>\n",
       "      <th>59069</th>\n",
       "      <td>Poland</td>\n",
       "      <td>Other doctoral degree (Ph.D., Ed.D., etc.)</td>\n",
       "      <td>More than 50 years</td>\n",
       "      <td>Employed, part-time</td>\n",
       "      <td>11100.0</td>\n",
       "    </tr>\n",
       "    <tr>\n",
       "      <th>61973</th>\n",
       "      <td>United States of America</td>\n",
       "      <td>Bachelor’s degree (B.A., B.S., B.Eng., etc.)</td>\n",
       "      <td>More than 50 years</td>\n",
       "      <td>Independent contractor, freelancer, or self-em...</td>\n",
       "      <td>90000.0</td>\n",
       "    </tr>\n",
       "    <tr>\n",
       "      <th>63398</th>\n",
       "      <td>Netherlands</td>\n",
       "      <td>Some college/university study without earning ...</td>\n",
       "      <td>More than 50 years</td>\n",
       "      <td>Employed, full-time</td>\n",
       "      <td>127972.0</td>\n",
       "    </tr>\n",
       "    <tr>\n",
       "      <th>63923</th>\n",
       "      <td>United Kingdom of Great Britain and Northern I...</td>\n",
       "      <td>Bachelor’s degree (B.A., B.S., B.Eng., etc.)</td>\n",
       "      <td>More than 50 years</td>\n",
       "      <td>Retired</td>\n",
       "      <td>12564.0</td>\n",
       "    </tr>\n",
       "    <tr>\n",
       "      <th>69452</th>\n",
       "      <td>Brazil</td>\n",
       "      <td>Some college/university study without earning ...</td>\n",
       "      <td>More than 50 years</td>\n",
       "      <td>Independent contractor, freelancer, or self-em...</td>\n",
       "      <td>24924.0</td>\n",
       "    </tr>\n",
       "  </tbody>\n",
       "</table>\n",
       "</div>"
      ],
      "text/plain": [
       "                                                 Country  \\\n",
       "11759                           United States of America   \n",
       "19912                                            Belgium   \n",
       "30130                           United States of America   \n",
       "30348                           United States of America   \n",
       "31547                                        New Zealand   \n",
       "38810                           United States of America   \n",
       "39353                           United States of America   \n",
       "47396                                          Australia   \n",
       "59069                                             Poland   \n",
       "61973                           United States of America   \n",
       "63398                                        Netherlands   \n",
       "63923  United Kingdom of Great Britain and Northern I...   \n",
       "69452                                             Brazil   \n",
       "\n",
       "                                                 EdLevel        YearsCodePro  \\\n",
       "11759  Some college/university study without earning ...  More than 50 years   \n",
       "19912                          Primary/elementary school  More than 50 years   \n",
       "30130    Master’s degree (M.A., M.S., M.Eng., MBA, etc.)  More than 50 years   \n",
       "30348  Some college/university study without earning ...  More than 50 years   \n",
       "31547  Some college/university study without earning ...  More than 50 years   \n",
       "38810       Bachelor’s degree (B.A., B.S., B.Eng., etc.)  More than 50 years   \n",
       "39353       Bachelor’s degree (B.A., B.S., B.Eng., etc.)  More than 50 years   \n",
       "47396       Bachelor’s degree (B.A., B.S., B.Eng., etc.)  More than 50 years   \n",
       "59069         Other doctoral degree (Ph.D., Ed.D., etc.)  More than 50 years   \n",
       "61973       Bachelor’s degree (B.A., B.S., B.Eng., etc.)  More than 50 years   \n",
       "63398  Some college/university study without earning ...  More than 50 years   \n",
       "63923       Bachelor’s degree (B.A., B.S., B.Eng., etc.)  More than 50 years   \n",
       "69452  Some college/university study without earning ...  More than 50 years   \n",
       "\n",
       "                                              Employment    Salary  \n",
       "11759  Independent contractor, freelancer, or self-em...  250000.0  \n",
       "19912                                I prefer not to say       1.0  \n",
       "30130                                Employed, full-time  100000.0  \n",
       "30348                                            Retired  145000.0  \n",
       "31547                                            Retired   64333.0  \n",
       "38810  Independent contractor, freelancer, or self-em...  125000.0  \n",
       "39353                                Employed, full-time  200000.0  \n",
       "47396                                Employed, full-time   60155.0  \n",
       "59069                                Employed, part-time   11100.0  \n",
       "61973  Independent contractor, freelancer, or self-em...   90000.0  \n",
       "63398                                Employed, full-time  127972.0  \n",
       "63923                                            Retired   12564.0  \n",
       "69452  Independent contractor, freelancer, or self-em...   24924.0  "
      ]
     },
     "execution_count": 11,
     "metadata": {},
     "output_type": "execute_result"
    }
   ],
   "source": [
    "df[df['YearsCodePro'] == 'More than 50 years']"
   ]
  },
  {
   "cell_type": "code",
   "execution_count": 12,
   "metadata": {},
   "outputs": [
    {
     "data": {
      "text/plain": [
       "Country         0\n",
       "EdLevel         0\n",
       "YearsCodePro    0\n",
       "Employment      0\n",
       "Salary          0\n",
       "dtype: int64"
      ]
     },
     "execution_count": 12,
     "metadata": {},
     "output_type": "execute_result"
    }
   ],
   "source": [
    "df = df.dropna()\n",
    "df.isnull().sum()"
   ]
  },
  {
   "cell_type": "code",
   "execution_count": 13,
   "metadata": {},
   "outputs": [
    {
     "data": {
      "text/plain": [
       "array(['5', '17', '6', '2', '10', '4', '22', '20', '9', '14', '21', '15',\n",
       "       '3', '25', '7', '8', '12', '19', '1', '28', '24', '11', '23', '45',\n",
       "       'Less than 1 year', '18', '40', '37', '46', '13', '32', '31', '39',\n",
       "       '27', '16', '26', '30', '34', '35', '29', '42', '38', '36', '43',\n",
       "       '41', '44', '48', '33', 'More than 50 years', '50', '47', '49'],\n",
       "      dtype=object)"
      ]
     },
     "execution_count": 13,
     "metadata": {},
     "output_type": "execute_result"
    }
   ],
   "source": [
    "df['YearsCodePro'].unique()"
   ]
  },
  {
   "cell_type": "code",
   "execution_count": 14,
   "metadata": {},
   "outputs": [
    {
     "name": "stdout",
     "output_type": "stream",
     "text": [
      "<class 'pandas.core.frame.DataFrame'>\n",
      "Int64Index: 34288 entries, 2 to 73121\n",
      "Data columns (total 4 columns):\n",
      " #   Column        Non-Null Count  Dtype  \n",
      "---  ------        --------------  -----  \n",
      " 0   Country       34288 non-null  object \n",
      " 1   EdLevel       34288 non-null  object \n",
      " 2   YearsCodePro  34288 non-null  object \n",
      " 3   Salary        34288 non-null  float64\n",
      "dtypes: float64(1), object(3)\n",
      "memory usage: 1.3+ MB\n"
     ]
    }
   ],
   "source": [
    "# Filter the DataFrame to include only rows with \"Employed, full-time\" in the \"Employment\" column\n",
    "df = df[df[\"Employment\"].str.contains(\"Employed, full-time\", na=False)]\n",
    "\n",
    "# Drop the \"Employment\" column\n",
    "df = df.drop(\"Employment\", axis=1)\n",
    "\n",
    "# Print DataFrame information\n",
    "df.info()\n"
   ]
  },
  {
   "cell_type": "code",
   "execution_count": 15,
   "metadata": {},
   "outputs": [
    {
     "data": {
      "text/plain": [
       "United States of America                                8292\n",
       "Germany                                                 2540\n",
       "United Kingdom of Great Britain and Northern Ireland    2435\n",
       "India                                                   2049\n",
       "Canada                                                  1363\n",
       "                                                        ... \n",
       "Guinea                                                     1\n",
       "Palau                                                      1\n",
       "Monaco                                                     1\n",
       "Saint Lucia                                                1\n",
       "Seychelles                                                 1\n",
       "Name: Country, Length: 157, dtype: int64"
      ]
     },
     "execution_count": 15,
     "metadata": {},
     "output_type": "execute_result"
    }
   ],
   "source": [
    "df['Country'].value_counts()"
   ]
  },
  {
   "cell_type": "code",
   "execution_count": 16,
   "metadata": {},
   "outputs": [],
   "source": [
    "def shorten_categories(cateories,cutoff):\n",
    "    categorical_map = {}\n",
    "    for i in range(len(cateories)):\n",
    "        if cateories.values[i] >=cutoff:\n",
    "            categorical_map[cateories.index[i]] = cateories.index[i]\n",
    "        else:\n",
    "            categorical_map[cateories.index[i]] = 'Other'\n",
    "    return categorical_map           \n"
   ]
  },
  {
   "cell_type": "code",
   "execution_count": 17,
   "metadata": {},
   "outputs": [
    {
     "data": {
      "text/plain": [
       "Other                                                   9454\n",
       "United States of America                                8292\n",
       "Germany                                                 2540\n",
       "United Kingdom of Great Britain and Northern Ireland    2435\n",
       "India                                                   2049\n",
       "Canada                                                  1363\n",
       "France                                                  1202\n",
       "Brazil                                                  1161\n",
       "Spain                                                    921\n",
       "Netherlands                                              749\n",
       "Poland                                                   748\n",
       "Australia                                                740\n",
       "Italy                                                    710\n",
       "Sweden                                                   597\n",
       "Russian Federation                                       486\n",
       "Switzerland                                              438\n",
       "Turkey                                                   403\n",
       "Name: Country, dtype: int64"
      ]
     },
     "execution_count": 17,
     "metadata": {},
     "output_type": "execute_result"
    }
   ],
   "source": [
    "country_map = shorten_categories(df.Country.value_counts(),400)\n",
    "df['Country'] = df['Country'].map(country_map)\n",
    "df.Country.value_counts()\n"
   ]
  },
  {
   "cell_type": "code",
   "execution_count": 18,
   "metadata": {},
   "outputs": [
    {
     "data": {
      "image/png": "[encoded data removed]",
      "text/plain": [
       "<Figure size 1200x700 with 1 Axes>"
      ]
     },
     "metadata": {},
     "output_type": "display_data"
    }
   ],
   "source": [
    "fig,ax= plt.subplots(1, 1, figsize=(12, 7))\n",
    "ax.boxplot([df.loc[df['Country'] == country, 'Salary'] for country in df['Country'].unique()])\n",
    "ax.set_xticklabels(df['Country'].unique(), rotation=90)\n",
    "plt.suptitle('Salary in USD V/S Country')\n",
    "plt.ylabel('Salary')\n",
    "plt.xlabel('Country')\n",
    "plt.show()"
   ]
  },
  {
   "cell_type": "code",
   "execution_count": null,
   "metadata": {},
   "outputs": [],
   "source": []
  },
  {
   "cell_type": "code",
   "execution_count": 19,
   "metadata": {},
   "outputs": [],
   "source": [
    "df = df[df['Salary'] <=25000]\n",
    "df = df[df['Salary'] >=1000]\n",
    "df = df[df['Country'] != 'other']"
   ]
  },
  {
   "cell_type": "code",
   "execution_count": 20,
   "metadata": {},
   "outputs": [
    {
     "data": {
      "image/png": "[encoded data removed]",
      "text/plain": [
       "<Figure size 1200x700 with 1 Axes>"
      ]
     },
     "metadata": {},
     "output_type": "display_data"
    }
   ],
   "source": [
    "fig,ax= plt.subplots(1, 1, figsize=(12, 7))\n",
    "ax.boxplot([df.loc[df['Country'] == country, 'Salary'] for country in df['Country'].unique()])\n",
    "ax.set_xticklabels(df['Country'].unique(), rotation=90)\n",
    "plt.suptitle('Salary in USD V/S Country')\n",
    "plt.ylabel('Salary')\n",
    "plt.xlabel('Country')\n",
    "plt.show()"
   ]
  },
  {
   "cell_type": "code",
   "execution_count": 21,
   "metadata": {},
   "outputs": [
    {
     "data": {
      "image/png": "[encoded data removed]",
      "text/plain": [
       "<Figure size 1000x600 with 1 Axes>"
      ]
     },
     "metadata": {},
     "output_type": "display_data"
    }
   ],
   "source": [
    "\n",
    "# Sort the DataFrame by mean salary in descending order and select the top 5 countries\n",
    "top_5_countries = mean_salary_by_country.sort_values('Salary', ascending=False).head(10)\n",
    "\n",
    "# Plotting the bar grap\n",
    "top_5_countries.plot(x='Country', y='Salary', kind='bar', figsize=(10, 6), color='skyblue')\n",
    "plt.title('Top 5 Countries by Mean Salary')\n",
    "plt.xlabel('Country')\n",
    "plt.ylabel('Mean Salary')\n",
    "plt.xticks(rotation=45)\n",
    "plt.grid(axis='y')\n",
    "plt.show()\n"
   ]
  },
  {
   "cell_type": "code",
   "execution_count": 22,
   "metadata": {},
   "outputs": [
    {
     "data": {
      "text/plain": [
       "array(['4', '3', '20', '7', '12', 'Less than 1 year', '2', '1', '5', '8',\n",
       "       '6', '34', '10', '13', '17', '11', '16', '15', '9', '30', '19',\n",
       "       '14', '23', '25', '28', '18', '21', '22', '24', '27', '29', '31',\n",
       "       '26', '48', '37', '32', '35', '36'], dtype=object)"
      ]
     },
     "execution_count": 22,
     "metadata": {},
     "output_type": "execute_result"
    }
   ],
   "source": [
    "df['YearsCodePro'].unique()"
   ]
  },
  {
   "cell_type": "code",
   "execution_count": 23,
   "metadata": {},
   "outputs": [],
   "source": [
    "def clean_experiance(x):\n",
    "    if x == 'Less than 1 year':\n",
    "        return 0.5\n",
    "    if x =='More than 50 years':\n",
    "        return 50\n",
    "    return float(x)\n",
    "\n",
    "df['YearsCodePro'] = df['YearsCodePro'].apply(clean_experiance)  "
   ]
  },
  {
   "cell_type": "code",
   "execution_count": 24,
   "metadata": {},
   "outputs": [
    {
     "data": {
      "text/plain": [
       "array([ 4. ,  3. , 20. ,  7. , 12. ,  0.5,  2. ,  1. ,  5. ,  8. ,  6. ,\n",
       "       34. , 10. , 13. , 17. , 11. , 16. , 15. ,  9. , 30. , 19. , 14. ,\n",
       "       23. , 25. , 28. , 18. , 21. , 22. , 24. , 27. , 29. , 31. , 26. ,\n",
       "       48. , 37. , 32. , 35. , 36. ])"
      ]
     },
     "execution_count": 24,
     "metadata": {},
     "output_type": "execute_result"
    }
   ],
   "source": [
    "df['YearsCodePro'].unique()"
   ]
  },
  {
   "cell_type": "code",
   "execution_count": 25,
   "metadata": {},
   "outputs": [
    {
     "data": {
      "text/plain": [
       "array(['Bachelor’s degree (B.A., B.S., B.Eng., etc.)',\n",
       "       'Master’s degree (M.A., M.S., M.Eng., MBA, etc.)',\n",
       "       'Associate degree (A.A., A.S., etc.)',\n",
       "       'Secondary school (e.g. American high school, German Realschule or Gymnasium, etc.)',\n",
       "       'Some college/university study without earning a degree',\n",
       "       'Professional degree (JD, MD, etc.)', 'Something else',\n",
       "       'Primary/elementary school',\n",
       "       'Other doctoral degree (Ph.D., Ed.D., etc.)'], dtype=object)"
      ]
     },
     "execution_count": 25,
     "metadata": {},
     "output_type": "execute_result"
    }
   ],
   "source": [
    "df[\"EdLevel\"].unique()"
   ]
  },
  {
   "cell_type": "code",
   "execution_count": 26,
   "metadata": {},
   "outputs": [],
   "source": [
    "def clean_education(x):\n",
    "    if 'Bachelor’s degree' in x:\n",
    "        return 'Bachelors degree'\n",
    "    if 'Master’s degree' in x:\n",
    "        return 'Masters degree'\n",
    "    if 'Professional degree' in x or 'Other doctoral degree' in x:\n",
    "        return 'Post grad'\n",
    "    else:\n",
    "        return 'Less than a Bachelors'\n",
    "\n",
    "df['EdLevel'] = df['EdLevel'].apply(clean_education)"
   ]
  },
  {
   "cell_type": "code",
   "execution_count": 27,
   "metadata": {},
   "outputs": [
    {
     "data": {
      "text/plain": [
       "array(['Bachelors degree', 'Masters degree', 'Less than a Bachelors',\n",
       "       'Post grad'], dtype=object)"
      ]
     },
     "execution_count": 27,
     "metadata": {},
     "output_type": "execute_result"
    }
   ],
   "source": [
    "df['EdLevel'].unique()"
   ]
  },
  {
   "cell_type": "code",
   "execution_count": 28,
   "metadata": {},
   "outputs": [
    {
     "data": {
      "text/plain": [
       "array([0, 2, 1, 3])"
      ]
     },
     "execution_count": 28,
     "metadata": {},
     "output_type": "execute_result"
    }
   ],
   "source": [
    "from sklearn.preprocessing import LabelEncoder\n",
    "le_education = LabelEncoder()\n",
    "df['EdLevel'] = le_education.fit_transform(df['EdLevel'])\n",
    "df['EdLevel'].unique()"
   ]
  },
  {
   "cell_type": "code",
   "execution_count": 29,
   "metadata": {},
   "outputs": [
    {
     "data": {
      "text/plain": [
       "array([ 8,  1, 14,  6,  5, 11,  4,  9,  3, 16, 10,  0, 13, 15,  7,  2, 12])"
      ]
     },
     "execution_count": 29,
     "metadata": {},
     "output_type": "execute_result"
    }
   ],
   "source": [
    "le_country = LabelEncoder()\n",
    "df['Country'] = le_country.fit_transform(df['Country'])\n",
    "df['Country'].unique()"
   ]
  },
  {
   "cell_type": "code",
   "execution_count": 30,
   "metadata": {},
   "outputs": [],
   "source": [
    "x = df.drop(\"Salary\",axis=1)\n",
    "y = df['Salary']"
   ]
  },
  {
   "cell_type": "code",
   "execution_count": 31,
   "metadata": {},
   "outputs": [],
   "source": [
    "from sklearn.model_selection import train_test_split\n"
   ]
  },
  {
   "cell_type": "code",
   "execution_count": 32,
   "metadata": {},
   "outputs": [],
   "source": [
    "X_train, X_test, y_train, y_test = train_test_split(x, y, test_size=0.2, random_state=42)\n"
   ]
  },
  {
   "cell_type": "code",
   "execution_count": 33,
   "metadata": {},
   "outputs": [],
   "source": [
    "from sklearn.metrics import mean_absolute_error,mean_squared_error\n",
    "import numpy as np\n",
    "from sklearn.metrics import r2_score,accuracy_score\n"
   ]
  },
  {
   "cell_type": "markdown",
   "metadata": {},
   "source": [
    "# Linear Regression"
   ]
  },
  {
   "cell_type": "code",
   "execution_count": 34,
   "metadata": {},
   "outputs": [],
   "source": [
    "from sklearn.linear_model import LinearRegression\n",
    "linear_reg = LinearRegression()\n",
    "linear_reg.fit(X_train,y_train)\n",
    "y_pred = linear_reg.predict(X_test)  \n",
    "r2_squared_reg = r2_score(y_test,y_pred) \n",
    "error_reg = mean_squared_error(y_test,y_pred)\n",
    "error_reg = np.sqrt(error_reg)\n"
   ]
  },
  {
   "cell_type": "code",
   "execution_count": 35,
   "metadata": {},
   "outputs": [
    {
     "name": "stdout",
     "output_type": "stream",
     "text": [
      "Error for Reg. is $6,649.28\n",
      "R2 for Reg. 0.04418986606626263\n"
     ]
    }
   ],
   "source": [
    "print(\"Error for Reg. is ${:,.02f}\".format(error_reg))\n",
    "print(\"R2 for Reg.\",r2_squared_reg)"
   ]
  },
  {
   "cell_type": "markdown",
   "metadata": {},
   "source": [
    "# Decision Tree\n"
   ]
  },
  {
   "cell_type": "code",
   "execution_count": 36,
   "metadata": {},
   "outputs": [],
   "source": [
    "from sklearn.tree import DecisionTreeClassifier\n",
    "linear_reg = DecisionTreeClassifier()\n",
    "linear_reg.fit(X_train,y_train)\n",
    "y_pred = linear_reg.predict(X_test)  \n",
    "r2_squared_dt = r2_score(y_test,y_pred) \n",
    "error_dt = mean_squared_error(y_test,y_pred)\n",
    "error_dt = np.sqrt(error_dt)"
   ]
  },
  {
   "cell_type": "code",
   "execution_count": 37,
   "metadata": {},
   "outputs": [
    {
     "name": "stdout",
     "output_type": "stream",
     "text": [
      "Error for D.t is $8,426.09\n",
      "R2 for DT -0.5348807758460188\n"
     ]
    }
   ],
   "source": [
    "print(\"Error for D.t is ${:,.02f}\".format(error_dt))\n",
    "print(\"R2 for DT\",r2_squared_dt)"
   ]
  },
  {
   "cell_type": "markdown",
   "metadata": {},
   "source": [
    "# RandomForestRegressor"
   ]
  },
  {
   "cell_type": "code",
   "execution_count": 38,
   "metadata": {},
   "outputs": [],
   "source": [
    "from sklearn.ensemble import RandomForestClassifier\n",
    "random_forest= RandomForestClassifier()\n",
    "random_forest.fit(X_train,y_train)\n",
    "y_pred = random_forest.predict(X_test)  \n",
    "r2_squared_forest = r2_score(y_test,y_pred) \n",
    "error_Forest = mean_squared_error(y_test,y_pred)\n",
    "error_Forest = np.sqrt(error_Forest)"
   ]
  },
  {
   "cell_type": "code",
   "execution_count": 39,
   "metadata": {},
   "outputs": [
    {
     "name": "stdout",
     "output_type": "stream",
     "text": [
      "Error for RandomForest is  $8,295.94\n",
      "R2 for Random Forest -0.4878316319192346\n"
     ]
    }
   ],
   "source": [
    "print(\"Error for RandomForest is  ${:,.02f}\".format(error_Forest))\n",
    "print(\"R2 for Random Forest\",r2_squared_forest)"
   ]
  },
  {
   "cell_type": "code",
   "execution_count": 40,
   "metadata": {},
   "outputs": [
    {
     "name": "stderr",
     "output_type": "stream",
     "text": [
      "c:\\Users\\VYOM\\anaconda3\\lib\\site-packages\\sklearn\\model_selection\\_split.py:676: UserWarning: The least populated class in y has only 1 members, which is less than n_splits=5.\n",
      "  warnings.warn(\n"
     ]
    },
    {
     "data": {
      "text/plain": [
       "GridSearchCV(estimator=DecisionTreeClassifier(random_state=0),\n",
       "             param_grid={'max_depth': [None, 2, 4, 6, 8, 10, 12]},\n",
       "             scoring='neg_mean_squared_error')"
      ]
     },
     "execution_count": 40,
     "metadata": {},
     "output_type": "execute_result"
    }
   ],
   "source": [
    "from sklearn.model_selection import GridSearchCV\n",
    "\n",
    "max_depth = [None,2,4,6,8,10,12]\n",
    "parameters = {\"max_depth\":max_depth}\n",
    "regressor = DecisionTreeClassifier(random_state=0)\n",
    "ga = GridSearchCV(regressor,parameters,scoring='neg_mean_squared_error')\n",
    "ga.fit(X_train,y_train)\n"
   ]
  },
  {
   "cell_type": "code",
   "execution_count": 41,
   "metadata": {},
   "outputs": [
    {
     "name": "stdout",
     "output_type": "stream",
     "text": [
      "Error for GridCV is  $8,133.88\n"
     ]
    }
   ],
   "source": [
    "regressor  = ga.best_estimator_\n",
    "y_pred=regressor.predict(X_test)\n",
    "error_grid = np.sqrt(mean_squared_error(y_pred,y_test))\n",
    "print(\"Error for GridCV is  ${:,.02f}\".format(error_grid))\n"
   ]
  },
  {
   "cell_type": "code",
   "execution_count": 42,
   "metadata": {},
   "outputs": [
    {
     "name": "stdout",
     "output_type": "stream",
     "text": [
      "Error for Reg. is $6,649.28\n",
      "Error for GridCV is  $8,133.88\n",
      "Error for RandomForest is  $8,295.94\n",
      "Error for D.t is $8,426.09\n"
     ]
    }
   ],
   "source": [
    "print(\"Error for Reg. is ${:,.02f}\".format(error_reg))\n",
    "print(\"Error for GridCV is  ${:,.02f}\".format(error_grid))\n",
    "print(\"Error for RandomForest is  ${:,.02f}\".format(error_Forest))\n",
    "print(\"Error for D.t is ${:,.02f}\".format(error_dt))\n",
    "\n",
    "\n"
   ]
  },
  {
   "cell_type": "code",
   "execution_count": 43,
   "metadata": {},
   "outputs": [],
   "source": [
    "que = np.array([['India', 'Bachelors degree', 5]])\n",
    "que[:, 0] = le_country.transform(que[:, 0])\n",
    "que[:, 1] = le_education.transform(que[:, 1])\n",
    "que = que.astype(float)"
   ]
  },
  {
   "cell_type": "code",
   "execution_count": 44,
   "metadata": {},
   "outputs": [
    {
     "data": {
      "text/plain": [
       "array([[5., 0., 5.]])"
      ]
     },
     "execution_count": 44,
     "metadata": {},
     "output_type": "execute_result"
    }
   ],
   "source": [
    "que"
   ]
  },
  {
   "cell_type": "code",
   "execution_count": 45,
   "metadata": {},
   "outputs": [
    {
     "name": "stderr",
     "output_type": "stream",
     "text": [
      "c:\\Users\\VYOM\\anaconda3\\lib\\site-packages\\sklearn\\base.py:450: UserWarning: X does not have valid feature names, but DecisionTreeClassifier was fitted with feature names\n",
      "  warnings.warn(\n"
     ]
    }
   ],
   "source": [
    "y_pred = linear_reg.predict(que)"
   ]
  },
  {
   "cell_type": "code",
   "execution_count": 46,
   "metadata": {},
   "outputs": [
    {
     "data": {
      "text/plain": [
       "array([19346.])"
      ]
     },
     "execution_count": 46,
     "metadata": {},
     "output_type": "execute_result"
    }
   ],
   "source": [
    "y_pred"
   ]
  },
  {
   "cell_type": "code",
   "execution_count": 47,
   "metadata": {},
   "outputs": [],
   "source": [
    "import pickle\n"
   ]
  },
  {
   "cell_type": "code",
   "execution_count": 48,
   "metadata": {},
   "outputs": [],
   "source": [
    "data = {\"model\":linear_reg,\"le_country\":le_country,\"le_education\":le_education}\n",
    "with open('final_saved_steps.pkl','wb') as file:\n",
    "    pickle.dump(data,file)\n",
    "    "
   ]
  },
  {
   "cell_type": "code",
   "execution_count": 49,
   "metadata": {},
   "outputs": [],
   "source": [
    "with open('final_saved_steps.pkl','rb') as file:\n",
    "    data = pickle.load(file)\n",
    "\n",
    "regressor_loaded = data['model']\n",
    "le_country = data['le_country']\n",
    "le_education = data['le_education']"
   ]
  },
  {
   "cell_type": "code",
   "execution_count": 50,
   "metadata": {},
   "outputs": [
    {
     "name": "stderr",
     "output_type": "stream",
     "text": [
      "c:\\Users\\VYOM\\anaconda3\\lib\\site-packages\\sklearn\\base.py:450: UserWarning: X does not have valid feature names, but DecisionTreeClassifier was fitted with feature names\n",
      "  warnings.warn(\n"
     ]
    },
    {
     "data": {
      "text/plain": [
       "array([19346.])"
      ]
     },
     "execution_count": 50,
     "metadata": {},
     "output_type": "execute_result"
    }
   ],
   "source": [
    "\n",
    "y_pred = regressor_loaded.predict(que)\n",
    "y_pred"
   ]
  },
  {
   "cell_type": "code",
   "execution_count": null,
   "metadata": {},
   "outputs": [],
   "source": []
  }
 ],
 "metadata": {
  "kernelspec": {
   "display_name": "venv",
   "language": "python",
   "name": "python3"
  },
  "language_info": {
   "codemirror_mode": {
    "name": "ipython",
    "version": 3
   },
   "file_extension": ".py",
   "mimetype": "text/x-python",
   "name": "python",
   "nbconvert_exporter": "python",
   "pygments_lexer": "ipython3",
   "version": "3.9.13"
  }
 },
 "nbformat": 4,
 "nbformat_minor": 2
}
